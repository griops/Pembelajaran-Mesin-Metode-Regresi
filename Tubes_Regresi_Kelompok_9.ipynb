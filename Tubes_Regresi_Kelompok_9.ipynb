{
  "nbformat": 4,
  "nbformat_minor": 0,
  "metadata": {
    "colab": {
      "name": "Tubes Regresi Kelompok 9.ipynb",
      "provenance": [],
      "collapsed_sections": [],
      "authorship_tag": "ABX9TyOyhrz4gyLOeJoLjhtY/XBI",
      "include_colab_link": true
    },
    "kernelspec": {
      "name": "python3",
      "display_name": "Python 3"
    }
  },
  "cells": [
    {
      "cell_type": "markdown",
      "metadata": {
        "id": "view-in-github",
        "colab_type": "text"
      },
      "source": [
        "<a href=\"https://colab.research.google.com/github/griops/Pembelajaran-Mesin-Metode-Regresi/blob/main/Tubes_Regresi_Kelompok_9.ipynb\" target=\"_parent\"><img src=\"https://colab.research.google.com/assets/colab-badge.svg\" alt=\"Open In Colab\"/></a>"
      ]
    },
    {
      "cell_type": "markdown",
      "metadata": {
        "id": "L_QhaiRQctjC"
      },
      "source": [
        "Pembelajaran Mesin dengan metode Regresi Linier\n"
      ]
    },
    {
      "cell_type": "markdown",
      "metadata": {
        "id": "t8oHud_aky0N"
      },
      "source": [
        "Overview Regresi Linear\n",
        "Regresi Linier atau Linear Regression adalah suatu model statistik yang umum dan paling sederhana yang digunakan untuk Machine Learning untuk melakukan prediksi dengan cara supervised learning.\n",
        "Regresi Linier hanya bisa digunakan untuk data yang bersifat interval dan ratio yang biasanya bersifat diskrit dan kontinu, dan merupakan analisis bivariate dan multivariate.\n",
        "\n",
        "Pada kelompok kami menggunakan analisis bivariate atau korelasi antara 2 variabel.  \n",
        "\n",
        "Dimana salah satunya adalah variabel independen (x) variabel utama yang mungkin akan mempengaruhi nilai variabel y dan satu lagi adalah variabel dependen (y) nilai variabel ini akan tergantung dari nilai variabel independennya. \n",
        "\n",
        "x:= Horsepower (HP)\n",
        "y:= Waktu Akselerasi (s)\n",
        "\n",
        "Overview Colab\n",
        "Kami menggunakan google colab, mengingat keberadaan kami yang tidak satu kota. Menggunakan google colab sangat cocok untuk pemrograman python dan bekerja menggunakan Google Colab untuk pertama kalinya benar-benar fenomenal dimana hanya membutuhkan koneksi internet saja. \n",
        "\n",
        "Overview scikit\n",
        "Scikit-learn merupakan open source machine learning library menyediakan berbagai macam machine learning dengan bahasa python yang mendukung supervised and unsupervised learning."
      ]
    },
    {
      "cell_type": "code",
      "metadata": {
        "id": "NTbiTovqUhg9"
      },
      "source": [
        "#kami menggunakan dataset dari vega, untuk menggunakannya kita cukup mengimpor library vega_datasets\n",
        "import vega_datasets"
      ],
      "execution_count": 178,
      "outputs": []
    },
    {
      "cell_type": "code",
      "metadata": {
        "id": "qgO-HnVabIS4"
      },
      "source": [
        "import matplotlib.pyplot as plt\n",
        "import seaborn as sn\n",
        "from sklearn.linear_model import LinearRegression\n",
        "import numpy as np\n",
        "from sklearn.model_selection import train_test_split\n",
        "import sklearn.metrics as sm"
      ],
      "execution_count": 179,
      "outputs": []
    },
    {
      "cell_type": "markdown",
      "metadata": {
        "id": "EUrlMxmxbcHt"
      },
      "source": [
        "Memanggil library yang diperlukan"
      ]
    },
    {
      "cell_type": "code",
      "metadata": {
        "id": "CVMWP-KkUvwM",
        "outputId": "d3dbb32a-cfee-487f-dabd-f4c0689d4d7e",
        "colab": {
          "base_uri": "https://localhost:8080/",
          "height": 278
        }
      },
      "source": [
        "#memilih/memanggil data set\n",
        "cr = vega_datasets.data.cars()\n",
        "#melihat isi dataset\n",
        "cr.head()"
      ],
      "execution_count": 180,
      "outputs": [
        {
          "output_type": "execute_result",
          "data": {
            "text/html": [
              "<div>\n",
              "<style scoped>\n",
              "    .dataframe tbody tr th:only-of-type {\n",
              "        vertical-align: middle;\n",
              "    }\n",
              "\n",
              "    .dataframe tbody tr th {\n",
              "        vertical-align: top;\n",
              "    }\n",
              "\n",
              "    .dataframe thead th {\n",
              "        text-align: right;\n",
              "    }\n",
              "</style>\n",
              "<table border=\"1\" class=\"dataframe\">\n",
              "  <thead>\n",
              "    <tr style=\"text-align: right;\">\n",
              "      <th></th>\n",
              "      <th>Name</th>\n",
              "      <th>Miles_per_Gallon</th>\n",
              "      <th>Cylinders</th>\n",
              "      <th>Displacement</th>\n",
              "      <th>Horsepower</th>\n",
              "      <th>Weight_in_lbs</th>\n",
              "      <th>Acceleration</th>\n",
              "      <th>Year</th>\n",
              "      <th>Origin</th>\n",
              "    </tr>\n",
              "  </thead>\n",
              "  <tbody>\n",
              "    <tr>\n",
              "      <th>0</th>\n",
              "      <td>chevrolet chevelle malibu</td>\n",
              "      <td>18.0</td>\n",
              "      <td>8</td>\n",
              "      <td>307.0</td>\n",
              "      <td>130.0</td>\n",
              "      <td>3504</td>\n",
              "      <td>12.0</td>\n",
              "      <td>1970-01-01</td>\n",
              "      <td>USA</td>\n",
              "    </tr>\n",
              "    <tr>\n",
              "      <th>1</th>\n",
              "      <td>buick skylark 320</td>\n",
              "      <td>15.0</td>\n",
              "      <td>8</td>\n",
              "      <td>350.0</td>\n",
              "      <td>165.0</td>\n",
              "      <td>3693</td>\n",
              "      <td>11.5</td>\n",
              "      <td>1970-01-01</td>\n",
              "      <td>USA</td>\n",
              "    </tr>\n",
              "    <tr>\n",
              "      <th>2</th>\n",
              "      <td>plymouth satellite</td>\n",
              "      <td>18.0</td>\n",
              "      <td>8</td>\n",
              "      <td>318.0</td>\n",
              "      <td>150.0</td>\n",
              "      <td>3436</td>\n",
              "      <td>11.0</td>\n",
              "      <td>1970-01-01</td>\n",
              "      <td>USA</td>\n",
              "    </tr>\n",
              "    <tr>\n",
              "      <th>3</th>\n",
              "      <td>amc rebel sst</td>\n",
              "      <td>16.0</td>\n",
              "      <td>8</td>\n",
              "      <td>304.0</td>\n",
              "      <td>150.0</td>\n",
              "      <td>3433</td>\n",
              "      <td>12.0</td>\n",
              "      <td>1970-01-01</td>\n",
              "      <td>USA</td>\n",
              "    </tr>\n",
              "    <tr>\n",
              "      <th>4</th>\n",
              "      <td>ford torino</td>\n",
              "      <td>17.0</td>\n",
              "      <td>8</td>\n",
              "      <td>302.0</td>\n",
              "      <td>140.0</td>\n",
              "      <td>3449</td>\n",
              "      <td>10.5</td>\n",
              "      <td>1970-01-01</td>\n",
              "      <td>USA</td>\n",
              "    </tr>\n",
              "  </tbody>\n",
              "</table>\n",
              "</div>"
            ],
            "text/plain": [
              "                        Name  Miles_per_Gallon  ...       Year  Origin\n",
              "0  chevrolet chevelle malibu              18.0  ... 1970-01-01     USA\n",
              "1          buick skylark 320              15.0  ... 1970-01-01     USA\n",
              "2         plymouth satellite              18.0  ... 1970-01-01     USA\n",
              "3              amc rebel sst              16.0  ... 1970-01-01     USA\n",
              "4                ford torino              17.0  ... 1970-01-01     USA\n",
              "\n",
              "[5 rows x 9 columns]"
            ]
          },
          "metadata": {
            "tags": []
          },
          "execution_count": 180
        }
      ]
    },
    {
      "cell_type": "code",
      "metadata": {
        "id": "iN8ju_PNVBFH"
      },
      "source": [
        "#melakukan pendefisian parameter\n",
        "HP = cr['Horsepower']\n",
        "Acc = cr['Acceleration']\n",
        "##cr.head()\n",
        "HP = HP.fillna(HP.mean())\n",
        "Acc = Acc.fillna(Acc.mean())"
      ],
      "execution_count": 181,
      "outputs": []
    },
    {
      "cell_type": "code",
      "metadata": {
        "id": "zgQ11qkdbfi_",
        "outputId": "bf834db1-0d21-48cf-c352-774cc28aa88d",
        "colab": {
          "base_uri": "https://localhost:8080/"
        }
      },
      "source": [
        "##mengubah data menjadi ke bentuk array numpy\n",
        "Daya = np.array(HP)\n",
        "Percepatan = np.array(Acc)\n",
        "len(Daya)\n",
        "len(Percepatan)"
      ],
      "execution_count": 182,
      "outputs": [
        {
          "output_type": "execute_result",
          "data": {
            "text/plain": [
              "406"
            ]
          },
          "metadata": {
            "tags": []
          },
          "execution_count": 182
        }
      ]
    },
    {
      "cell_type": "code",
      "metadata": {
        "id": "tTJnvkGep4_8",
        "outputId": "0b92ab8c-f7c1-4a7b-c42d-267976b4c98d",
        "colab": {
          "base_uri": "https://localhost:8080/"
        }
      },
      "source": [
        "#melakukan reshape\n",
        "Daya = Daya.reshape(len(Daya),1)\n",
        "Percepatan = Percepatan.reshape(len(Percepatan),1)\n",
        "len(Daya)\n",
        "#len(Percepatan)"
      ],
      "execution_count": 183,
      "outputs": [
        {
          "output_type": "execute_result",
          "data": {
            "text/plain": [
              "406"
            ]
          },
          "metadata": {
            "tags": []
          },
          "execution_count": 183
        }
      ]
    },
    {
      "cell_type": "markdown",
      "metadata": {
        "id": "k4ufcH3dblno"
      },
      "source": [
        "parameter yg diambil"
      ]
    },
    {
      "cell_type": "code",
      "metadata": {
        "id": "evewEUkAbo0U"
      },
      "source": [
        "#Melakukan pembagian data set sebagai data train dan data tes\n",
        "Daya_belajar, Daya_uji, Percepatan_belajar, Percepatan_uji = train_test_split(Daya, Percepatan, test_size=0.22, train_size=0.78, random_state=42)"
      ],
      "execution_count": 184,
      "outputs": []
    },
    {
      "cell_type": "markdown",
      "metadata": {
        "id": "yY13-nBcbq-O"
      },
      "source": [
        "ini variabel lagi"
      ]
    },
    {
      "cell_type": "code",
      "metadata": {
        "id": "vCVqJB3JbsoF"
      },
      "source": [
        "#Melakukan permodelan regresi linier\n",
        "linear_reg = LinearRegression()\n",
        "#Dilakukan penentuan dengan training data sumbu x, y\n",
        "linear_reg.fit(Daya_belajar,Percepatan_belajar)\n",
        "#Dilakukan prediksi nilai berdasarkan parameter input\n",
        "Prediksi_percepatan = linear_reg.predict(Daya_uji)"
      ],
      "execution_count": 185,
      "outputs": []
    },
    {
      "cell_type": "code",
      "metadata": {
        "id": "kzefHHHCbzg_",
        "outputId": "07593f44-2927-4636-ad9f-7ab6d6025b56",
        "colab": {
          "base_uri": "https://localhost:8080/",
          "height": 282
        }
      },
      "source": [
        "#Melakukan plot nilai pada grafik\n",
        "plt.scatter(Daya_belajar,Percepatan_belajar,color='blue')\n",
        "plt.plot(Daya_uji,Prediksi_percepatan,color='red')"
      ],
      "execution_count": 186,
      "outputs": [
        {
          "output_type": "execute_result",
          "data": {
            "text/plain": [
              "[<matplotlib.lines.Line2D at 0x7fd9d432bb38>]"
            ]
          },
          "metadata": {
            "tags": []
          },
          "execution_count": 186
        },
        {
          "output_type": "display_data",
          "data": {
            "image/png": "[encoded data removed]",
            "text/plain": [
              "<Figure size 432x288 with 1 Axes>"
            ]
          },
          "metadata": {
            "tags": [],
            "needs_background": "light"
          }
        }
      ]
    },
    {
      "cell_type": "code",
      "metadata": {
        "id": "J6r76JvYb5T6",
        "outputId": "727620e1-7b60-414c-e353-42b1fb4b38f6",
        "colab": {
          "base_uri": "https://localhost:8080/"
        }
      },
      "source": [
        "#Melakukan pengujian terhadap akurasi training terhadap pengujian\n",
        "\n",
        "#variance_score -> akurasi nilai regresi linier, jika akurasi mendekati 1 (100%) maka semakin baik. nilai bervariasi dari 0.0-1.0\n",
        "print('1. Akurasi = ', sm.explained_variance_score(Percepatan_uji,Prediksi_percepatan))\n",
        "\n",
        "#max_error -> selisih maksimal kesalahan nilai terhadap training\n",
        "print('2. Error Maksimal = ', sm.max_error(Percepatan_uji,Prediksi_percepatan))\n",
        "\n",
        "#mean_absolute_error -> rata-rata selisih kesalahan nilai terhadap training\n",
        "print('3. Rerata Error = ', sm.mean_absolute_error(Percepatan_uji,Prediksi_percepatan))\n",
        "\n",
        "#Mean squared error dari regression loss\n",
        "print('4. Mean squared error  = ', sm.mean_squared_error(Percepatan_uji,Prediksi_percepatan))\n",
        "\n",
        "#Mean squared error secara logaritmik dari regression loss\n",
        "print('5. Mean squared error logaritmik  = ', sm.mean_squared_log_error(Percepatan_uji,Prediksi_percepatan))\n",
        "\n",
        "#Nilai median dari error regresion --> Paling baik mendekati nol (0)\n",
        "print('6. Median error  = ', sm.median_absolute_error(Percepatan_uji,Prediksi_percepatan))\n",
        "\n",
        "#Nilai R^2 (coefficient of determination) regression score function --> Paling baik mendekati satu (1)\n",
        "print('7. Koefisien R^2  = ', sm.r2_score(Percepatan_uji,Prediksi_percepatan))\n",
        "\n",
        "#Nilai Rerata distribusi Poisson dari simpangan regression loss (sebanding dengan simpangan Tweedie yang memiliki power parameter=1)\n",
        "print('8. Simpangan Tweedie (p=1) = ', sm.mean_poisson_deviance(Percepatan_uji,Prediksi_percepatan))\n",
        "\n",
        "#Nilai Rerata distribusi Gamma dari simpangan regression loss (sebanding dengan simpangan Tweedie yang memiliki power parameter=2)\n",
        "print('9. Simpangan Tweedie (p=2) = ',sm.mean_gamma_deviance(Percepatan_uji,Prediksi_percepatan))\n",
        "\n",
        "#Note: Variabel transformasi power digunakan untuk membuat distribusi probabilistik menjadi Gaussian."
      ],
      "execution_count": 187,
      "outputs": [
        {
          "output_type": "stream",
          "text": [
            "1. Akurasi =  0.5703992373362756\n",
            "2. Error Maksimal =  6.51634132697691\n",
            "3. Rerata Error =  1.6020502474095735\n",
            "4. Mean squared error  =  3.9075869596579813\n",
            "5. Mean squared error logaritmik  =  0.01454293174105107\n",
            "6. Median error  =  1.3115136210799179\n",
            "7. Koefisien R^2  =  0.5699743331548595\n",
            "8. Simpangan Tweedie (p=1) =  0.2500580797960551\n",
            "9. Simpangan Tweedie (p=2) =  0.016686011282842268\n"
          ],
          "name": "stdout"
        }
      ]
    }
  ]
}